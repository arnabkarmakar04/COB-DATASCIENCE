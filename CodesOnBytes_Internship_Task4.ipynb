{
 "cells": [
  {
   "cell_type": "code",
   "execution_count": null,
   "id": "54813fc3-eb68-4061-8266-672457722ddb",
   "metadata": {},
   "outputs": [],
   "source": [
    "import pandas as pd \n",
    "import numpy as np\n",
    "import seaborn as sns\n",
    "import matplotlib.pyplot as plt"
   ]
  },
  {
   "cell_type": "code",
   "execution_count": null,
   "id": "58072155-50fb-4929-96e8-fc56cb4b10b0",
   "metadata": {},
   "outputs": [],
   "source": [
    "test_data= pd.read_csv(\"C:\\\\Users\\\\arnab\\\\Desktop\\\\PYTHON NOTEBOOK\\\\INTERNSHIP\\\\T4_Test_Dataset.csv\")\n",
    "train_data= pd.read_csv(\"C:\\\\Users\\\\arnab\\\\Desktop\\\\PYTHON NOTEBOOK\\\\INTERNSHIP\\\\T4_Train_Dataset.csv\")"
   ]
  },
  {
   "cell_type": "code",
   "execution_count": null,
   "id": "822464b2-4cc7-4b04-92eb-4fff8d69feca",
   "metadata": {},
   "outputs": [],
   "source": [
    "train_data.head()"
   ]
  },
  {
   "cell_type": "code",
   "execution_count": null,
   "id": "f8239aef-8eec-4ad5-b89c-06de74083e8c",
   "metadata": {},
   "outputs": [],
   "source": [
    "test_data.head()"
   ]
  },
  {
   "cell_type": "code",
   "execution_count": null,
   "id": "f32b4120-117b-4d67-8a00-b2d2e02cf1a0",
   "metadata": {},
   "outputs": [],
   "source": [
    "train_data.describe()"
   ]
  },
  {
   "cell_type": "code",
   "execution_count": null,
   "id": "834228ca-dd6a-4e2a-87fc-0732f52011a8",
   "metadata": {},
   "outputs": [],
   "source": [
    "train_data.isnull().sum()"
   ]
  },
  {
   "cell_type": "code",
   "execution_count": null,
   "id": "081d6c3f-1251-4143-8a36-b48a57f93e83",
   "metadata": {},
   "outputs": [],
   "source": [
    "train_data= train_data.dropna(axis=0)"
   ]
  },
  {
   "cell_type": "code",
   "execution_count": null,
   "id": "59923813-aba0-4d0c-b508-f33c0ee06a01",
   "metadata": {},
   "outputs": [],
   "source": [
    "train_data.isnull().sum()"
   ]
  },
  {
   "cell_type": "code",
   "execution_count": null,
   "id": "e802bc3a-f20a-4011-8b3c-0fcb1c6d8d35",
   "metadata": {},
   "outputs": [],
   "source": [
    "from sklearn.linear_model import LinearRegression\n",
    "from sklearn.model_selection import train_test_split\n",
    "model= LinearRegression()"
   ]
  },
  {
   "cell_type": "code",
   "execution_count": null,
   "id": "148c636e-b01b-4e13-9992-f88d9b0f0eb7",
   "metadata": {},
   "outputs": [],
   "source": [
    "x_train= train_data['x']\n",
    "y_train= train_data.drop('x', axis=1)\n",
    "\n",
    "x_test= test_data['x']\n",
    "y_test= test_data.drop('x', axis=1)"
   ]
  },
  {
   "cell_type": "code",
   "execution_count": null,
   "id": "94869ff0-60db-4f58-8269-9e76b6ad0de6",
   "metadata": {},
   "outputs": [],
   "source": [
    "plt.scatter(x_train, y_train, s=5)\n",
    "plt.xlabel('X')\n",
    "plt.ylabel('Y')"
   ]
  },
  {
   "cell_type": "code",
   "execution_count": null,
   "id": "f30e6c63-fb5c-435a-b62c-ef114346e300",
   "metadata": {},
   "outputs": [],
   "source": [
    "sns.regplot(x= x_train, y= y_train, scatter_kws={'s':30, 'facecolor':'pink'})"
   ]
  },
  {
   "cell_type": "code",
   "execution_count": null,
   "id": "e394c853-c0d7-41b0-afa9-20cc7bacd3f1",
   "metadata": {},
   "outputs": [],
   "source": [
    "model.fit(y_train, x_train)"
   ]
  },
  {
   "cell_type": "code",
   "execution_count": null,
   "id": "1eb972c9-6e51-437a-8965-87838f6704f5",
   "metadata": {},
   "outputs": [],
   "source": [
    "m= model.intercept_\n",
    "c= model.coef_\n",
    "m,c"
   ]
  },
  {
   "cell_type": "code",
   "execution_count": null,
   "id": "7087ff82-9b82-4b04-92e0-c278a1eedea5",
   "metadata": {},
   "outputs": [],
   "source": [
    "y_hat= model.predict(y_test)"
   ]
  },
  {
   "cell_type": "code",
   "execution_count": null,
   "id": "a3fe7e3f-5414-490a-baeb-8f3249a3db29",
   "metadata": {},
   "outputs": [],
   "source": [
    "y_test.shape"
   ]
  },
  {
   "cell_type": "code",
   "execution_count": null,
   "id": "14242df2-01ec-42f8-8d1b-be44459bae84",
   "metadata": {},
   "outputs": [],
   "source": [
    "index= [i for i in range(1,301)]\n",
    "plt.plot(index,y_test , color=\"yellow\" , linewidth=2, linestyle='-')\n",
    "plt.plot(index,y_hat , color=\"blue\", linewidth=1, linestyle='-')\n",
    "\n",
    "plt.title('Actual VS Predicted')\n",
    "plt.xlabel('Index')\n",
    "plt.ylabel('y-values')\n",
    "\n",
    "plt.xticks(np.arange(0,330, step=30))\n",
    "plt.yticks(np.arange(0,120, step=20))\n",
    "plt.grid()"
   ]
  },
  {
   "cell_type": "code",
   "execution_count": null,
   "id": "8095ff94-a205-4af8-b3d4-be528371c641",
   "metadata": {},
   "outputs": [],
   "source": [
    "from sklearn import metrics"
   ]
  },
  {
   "cell_type": "code",
   "execution_count": null,
   "id": "2ff6d8c1-6fa6-4422-9753-552b5c5b1da8",
   "metadata": {},
   "outputs": [],
   "source": [
    "print(\"R^2= \", metrics.r2_score(y_hat, y_test))\n",
    "print(\"MSE= \", metrics.mean_squared_error(y_hat, y_test))"
   ]
  },
  {
   "cell_type": "code",
   "execution_count": null,
   "id": "4113338a-0a8c-45ef-a41b-94867104edac",
   "metadata": {},
   "outputs": [],
   "source": [
    "plt.scatter(y_test,y_hat, s=10, color='red')\n",
    "plt.xlabel('Y-Test')\n",
    "plt.ylabel('Predicted Y')\n",
    "plt.grid()"
   ]
  },
  {
   "cell_type": "code",
   "execution_count": null,
   "id": "2dbbc6c0-5d47-41c0-8d99-710cdf60b072",
   "metadata": {},
   "outputs": [],
   "source": []
  }
 ],
 "metadata": {
  "kernelspec": {
   "display_name": "Python 3 (ipykernel)",
   "language": "python",
   "name": "python3"
  },
  "language_info": {
   "codemirror_mode": {
    "name": "ipython",
    "version": 3
   },
   "file_extension": ".py",
   "mimetype": "text/x-python",
   "name": "python",
   "nbconvert_exporter": "python",
   "pygments_lexer": "ipython3",
   "version": "3.11.5"
  }
 },
 "nbformat": 4,
 "nbformat_minor": 5
}
